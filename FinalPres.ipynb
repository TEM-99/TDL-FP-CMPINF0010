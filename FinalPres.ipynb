{
 "cells": [
  {
   "cell_type": "code",
   "execution_count": null,
   "metadata": {},
   "outputs": [],
   "source": [
    "pop={\n",
    "15106,19575\n",
    "15120,18757\n",
    "15201,12988\n",
    "15204,8676\n",
    "15205,22736\n",
    "15206,29369\n",
    "15207,12763\n",
    "15208,10451\n",
    "15210,27099\n",
    "15211,11141\n",
    "15212,26708\n",
    "15213,28105\n",
    "15214,14507\n",
    "15215,12566\n",
    "15216,23217\n",
    "15217,28508\n",
    "15218,13954\n",
    "15219,16239\n",
    "15220,18060\n",
    "15221,31461\n",
    "15222,4256\n",
    "15224,10945\n",
    "15226,13813\n",
    "15227,29198\n",
    "15232,11858\n",
    "15233,4469\n",
    "15234,13676\n",
    "15235,34625\n",
    "15236,29916\n",
    "15238,13520\n",
    "}"
   ]
  }
 ],
 "metadata": {
  "kernelspec": {
   "display_name": "Python 3",
   "language": "python",
   "name": "python3"
  },
  "language_info": {
   "codemirror_mode": {
    "name": "ipython",
    "version": 3
   },
   "file_extension": ".py",
   "mimetype": "text/x-python",
   "name": "python",
   "nbconvert_exporter": "python",
   "pygments_lexer": "ipython3",
   "version": "3.8.3"
  }
 },
 "nbformat": 4,
 "nbformat_minor": 4
}
