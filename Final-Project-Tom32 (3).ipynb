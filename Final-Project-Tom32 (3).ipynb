{
 "cells": [
  {
   "cell_type": "markdown",
   "metadata": {},
   "source": [
    "<h3>Food Gardens for the Doomsday<h3>\n",
    "<h5>Toby Mast<h5>"
   ]
  },
  {
   "cell_type": "markdown",
   "metadata": {},
   "source": [
    "Importing Csv and Trimming it down a bit. Datatset is of good gardens self-reported by members of the Grow Pittsburgh non-profit. Removing url, latitude, longitude, state, country won't be using them. Adding inlist of what we consider valid Pittsburgh zipcodes."
   ]
  },
  {
   "cell_type": "code",
   "execution_count": 1,
   "metadata": {},
   "outputs": [],
   "source": [
    "import pandas as pd\n",
    "import numpy as np\n",
    "import geopandas as gpd\n",
    "##import geoplot\n",
    "%matplotlib inline\n",
    "import matplotlib.pyplot as plot\n",
    "\n",
    "\n",
    "url=\"https://data.wprdc.org/dataset/0d8c9708-3f01-48c4-adff-04d29825c9a2/resource/dbdfcb3e-8fa5-4468-9b05-f69562798f7a/download/growpghgardens201712.csv\"\n",
    "foodGardens=pd.read_csv(url,\n",
    "                        index_col=\"grower_id\")\n",
    "#removing columns we don't need\n",
    "foodGardens=foodGardens.drop(columns=[\"url\", \"latitude\",\"longitude\",\"state\",\"country\"])\n",
    "zip_codes = [15106, 15120, 15201, 15204, 15205, 15206, 15207, 15208, 15210, 15211, 15212, 15213, 15214, 15215, 15216, 15217, 15218, 15219, 15220, 15221, 15222, 15224, 15226, 15227, 15232, 15233, 15234, 15235, 15236, 15238]\n"
   ]
  },
  {
   "cell_type": "markdown",
   "metadata": {},
   "source": [
    "Removing the zip codes not in pittburgh and doing a bit more trimming, and removing the ones without a zipcode. Wouldn't trust the address without a zipcode, and definitly wouldn't trust the cordinates."
   ]
  },
  {
   "cell_type": "code",
   "execution_count": 2,
   "metadata": {},
   "outputs": [
    {
     "name": "stdout",
     "output_type": "stream",
     "text": [
      "(80, 5)\n",
      "(58, 5)\n"
     ]
    },
    {
     "data": {
      "text/html": [
       "<div>\n",
       "<style scoped>\n",
       "    .dataframe tbody tr th:only-of-type {\n",
       "        vertical-align: middle;\n",
       "    }\n",
       "\n",
       "    .dataframe tbody tr th {\n",
       "        vertical-align: top;\n",
       "    }\n",
       "\n",
       "    .dataframe thead th {\n",
       "        text-align: right;\n",
       "    }\n",
       "</style>\n",
       "<table border=\"1\" class=\"dataframe\">\n",
       "  <thead>\n",
       "    <tr style=\"text-align: right;\">\n",
       "      <th></th>\n",
       "      <th>urban_grower</th>\n",
       "      <th>category</th>\n",
       "      <th>street_address</th>\n",
       "      <th>city</th>\n",
       "      <th>zip_code</th>\n",
       "    </tr>\n",
       "    <tr>\n",
       "      <th>grower_id</th>\n",
       "      <th></th>\n",
       "      <th></th>\n",
       "      <th></th>\n",
       "      <th></th>\n",
       "      <th></th>\n",
       "    </tr>\n",
       "  </thead>\n",
       "  <tbody>\n",
       "    <tr>\n",
       "      <th>586</th>\n",
       "      <td>Everybody's Garden</td>\n",
       "      <td>sustainability-fund-site|other</td>\n",
       "      <td>301 West Elizabeth Street</td>\n",
       "      <td>Pittsburgh</td>\n",
       "      <td>15207</td>\n",
       "    </tr>\n",
       "    <tr>\n",
       "      <th>587</th>\n",
       "      <td>EvGard Extension</td>\n",
       "      <td>other</td>\n",
       "      <td>NaN</td>\n",
       "      <td>Pittsburgh</td>\n",
       "      <td>15201</td>\n",
       "    </tr>\n",
       "    <tr>\n",
       "      <th>588</th>\n",
       "      <td>Glen Hazel Communiuty Garden</td>\n",
       "      <td>other</td>\n",
       "      <td>Johnston Avenue at Roselle Drive</td>\n",
       "      <td>Pittsburgh</td>\n",
       "      <td>15207</td>\n",
       "    </tr>\n",
       "    <tr>\n",
       "      <th>589</th>\n",
       "      <td>Grow Pittsburgh</td>\n",
       "      <td>grow-pittsburgh-site</td>\n",
       "      <td>6587 Hamilton Avenue #2W</td>\n",
       "      <td>Pittsburgh</td>\n",
       "      <td>15206</td>\n",
       "    </tr>\n",
       "    <tr>\n",
       "      <th>590</th>\n",
       "      <td>Lawrenceville Organic Community Garden</td>\n",
       "      <td>other</td>\n",
       "      <td>Allegheny Cemetery, 4734 Butler Street</td>\n",
       "      <td>Pittsburgh</td>\n",
       "      <td>15201</td>\n",
       "    </tr>\n",
       "    <tr>\n",
       "      <th>591</th>\n",
       "      <td>Masjid al Mu'min Madinah Garden</td>\n",
       "      <td>sustainability-fund-site|other</td>\n",
       "      <td>159 Winslow Street</td>\n",
       "      <td>Pittsburgh</td>\n",
       "      <td>15206</td>\n",
       "    </tr>\n",
       "    <tr>\n",
       "      <th>592</th>\n",
       "      <td>South Oakland Community Orchard</td>\n",
       "      <td>other</td>\n",
       "      <td>3213 Parkview Avenue</td>\n",
       "      <td>Pittsburgh</td>\n",
       "      <td>15213</td>\n",
       "    </tr>\n",
       "    <tr>\n",
       "      <th>593</th>\n",
       "      <td>Thelma Lovette YMCA Garden</td>\n",
       "      <td>other</td>\n",
       "      <td>2114 Centre Avenue</td>\n",
       "      <td>Pittsburgh</td>\n",
       "      <td>15219</td>\n",
       "    </tr>\n",
       "    <tr>\n",
       "      <th>594</th>\n",
       "      <td>Wiggins Garden</td>\n",
       "      <td>other</td>\n",
       "      <td>Near 3026 Wiggins Street</td>\n",
       "      <td>Pittsburgh</td>\n",
       "      <td>15219</td>\n",
       "    </tr>\n",
       "    <tr>\n",
       "      <th>666</th>\n",
       "      <td>Community Human Services Teaching Garden</td>\n",
       "      <td>community-farm</td>\n",
       "      <td>370 Lawn Street</td>\n",
       "      <td>Pittsburgh</td>\n",
       "      <td>15213</td>\n",
       "    </tr>\n",
       "  </tbody>\n",
       "</table>\n",
       "</div>"
      ],
      "text/plain": [
       "                                       urban_grower  \\\n",
       "grower_id                                             \n",
       "586                              Everybody's Garden   \n",
       "587                                EvGard Extension   \n",
       "588                    Glen Hazel Communiuty Garden   \n",
       "589                                 Grow Pittsburgh   \n",
       "590          Lawrenceville Organic Community Garden   \n",
       "591                 Masjid al Mu'min Madinah Garden   \n",
       "592                 South Oakland Community Orchard   \n",
       "593                      Thelma Lovette YMCA Garden   \n",
       "594                                  Wiggins Garden   \n",
       "666        Community Human Services Teaching Garden   \n",
       "\n",
       "                                 category  \\\n",
       "grower_id                                   \n",
       "586        sustainability-fund-site|other   \n",
       "587                                 other   \n",
       "588                                 other   \n",
       "589                  grow-pittsburgh-site   \n",
       "590                                 other   \n",
       "591        sustainability-fund-site|other   \n",
       "592                                 other   \n",
       "593                                 other   \n",
       "594                                 other   \n",
       "666                        community-farm   \n",
       "\n",
       "                                   street_address        city  zip_code  \n",
       "grower_id                                                                \n",
       "586                     301 West Elizabeth Street  Pittsburgh     15207  \n",
       "587                                           NaN  Pittsburgh     15201  \n",
       "588              Johnston Avenue at Roselle Drive  Pittsburgh     15207  \n",
       "589                      6587 Hamilton Avenue #2W  Pittsburgh     15206  \n",
       "590        Allegheny Cemetery, 4734 Butler Street  Pittsburgh     15201  \n",
       "591                            159 Winslow Street  Pittsburgh     15206  \n",
       "592                          3213 Parkview Avenue  Pittsburgh     15213  \n",
       "593                            2114 Centre Avenue  Pittsburgh     15219  \n",
       "594                      Near 3026 Wiggins Street  Pittsburgh     15219  \n",
       "666                               370 Lawn Street  Pittsburgh     15213  "
      ]
     },
     "execution_count": 2,
     "metadata": {},
     "output_type": "execute_result"
    }
   ],
   "source": [
    "print(foodGardens.shape)\n",
    "# Droopping ones outside of pittsburgh\n",
    "foodGardens=foodGardens.loc[foodGardens[\"city\"]==\"Pittsburgh\"]\n",
    "#dropping na and to be safe zipcodesone outside of pitsburgh and changing them to ints\n",
    "foodGardens=foodGardens.dropna(subset=[\"zip_code\"])\n",
    "foodGardens[\"zip_code\"]=pd.to_numeric(foodGardens[\"zip_code\"],downcast=\"integer\")\n",
    "foodGardens = foodGardens[foodGardens[\"zip_code\"].isin(zip_codes)]\n",
    "print(foodGardens.shape)\n",
    "foodGardens.head(10)"
   ]
  },
  {
   "cell_type": "markdown",
   "metadata": {},
   "source": [
    "Collecting the categories and assigning values to them"
   ]
  },
  {
   "cell_type": "code",
   "execution_count": 3,
   "metadata": {},
   "outputs": [
    {
     "name": "stdout",
     "output_type": "stream",
     "text": [
      "['sustainability-fund-site|other' 'other' 'grow-pittsburgh-site'\n",
      " 'community-farm' 'community-farm|school-garden' 'school-garden'\n",
      " 'commercial-urban-farm|grow-pittsburgh-site' 'commercial-urban-farm'\n",
      " 'sustainability-fund-site' 'community-garden'\n",
      " 'sustainability-fund-site|school-garden' 'allegheny-grows-site']\n"
     ]
    }
   ],
   "source": [
    "print(foodGardens[\"category\"].unique()) #finding what we have to work with"
   ]
  },
  {
   "cell_type": "code",
   "execution_count": 4,
   "metadata": {},
   "outputs": [],
   "source": [
    "scores={'sustainability-fund-site|other':1,\n",
    "       'other' :0,\n",
    "       'grow-pittsburgh-site':0,\n",
    "       'community-farm' :1,\n",
    "       'community-farm|school-garden' :1,\n",
    "       'school-garden':0,\n",
    "       'commercial-urban-farm|grow-pittsburgh-site':3,\n",
    "       'commercial-urban-farm':3,\n",
    "       'allegheny-grows-site' :0,\n",
    "       'sustainability-fund-site' :1,\n",
    "       'community-garden':0,\n",
    "       'sustainability-fund-site|school-garden':1}"
   ]
  },
  {
   "cell_type": "markdown",
   "metadata": {},
   "source": [
    "Defualt is 1\n",
    "Sustainable is +1\n",
    "farm is +1\n",
    "commercial is +2\n",
    "For the value of each in order to account for how beneficial each one would be in the doomsdat scenario"
   ]
  },
  {
   "cell_type": "code",
   "execution_count": 5,
   "metadata": {},
   "outputs": [
    {
     "name": "stdout",
     "output_type": "stream",
     "text": [
      "{15207: 5, 15201: 6, 15206: 18, 15213: 9, 15219: 8, 15221: 6, 15224: 7, 15214: 2, 15212: 3, 15208: 11, 15217: 2, 15204: 1, 15238: 2, 15210: 3, 15218: 1, 15220: 3}\n",
      "16\n"
     ]
    }
   ],
   "source": [
    "# Create a dictionary to store the counts\n",
    "center_counter = {}\n",
    "# loop over the data\n",
    "scoresA = []\n",
    "for value in foodGardens[\"category\"]:\n",
    "    scoresA.append(scores[value]+1)\n",
    "        \n",
    "foodGardens[\"scores\"] = scoresA \n",
    "for i in range(len(foodGardens)) :\n",
    "    z=foodGardens.iloc[i, 4]\n",
    "    s=foodGardens.iloc[i, 5]\n",
    "    #print(row[2])\n",
    "    # check to see if the center is already in the dictionary\n",
    "    if z not in center_counter:\n",
    "        # create a new entry\n",
    "        center_counter[z] = s\n",
    "    else:\n",
    "        center_counter[z] = center_counter[z] + s\n",
    "\n",
    "# Display the dictionary \n",
    "print(center_counter)\n",
    "print(len(center_counter))"
   ]
  },
  {
   "cell_type": "code",
   "execution_count": 6,
   "metadata": {},
   "outputs": [
    {
     "data": {
      "text/html": [
       "<div>\n",
       "<style scoped>\n",
       "    .dataframe tbody tr th:only-of-type {\n",
       "        vertical-align: middle;\n",
       "    }\n",
       "\n",
       "    .dataframe tbody tr th {\n",
       "        vertical-align: top;\n",
       "    }\n",
       "\n",
       "    .dataframe thead th {\n",
       "        text-align: right;\n",
       "    }\n",
       "</style>\n",
       "<table border=\"1\" class=\"dataframe\">\n",
       "  <thead>\n",
       "    <tr style=\"text-align: right;\">\n",
       "      <th></th>\n",
       "      <th>urban_grower</th>\n",
       "      <th>category</th>\n",
       "      <th>street_address</th>\n",
       "      <th>city</th>\n",
       "      <th>zip_code</th>\n",
       "      <th>scores</th>\n",
       "    </tr>\n",
       "    <tr>\n",
       "      <th>grower_id</th>\n",
       "      <th></th>\n",
       "      <th></th>\n",
       "      <th></th>\n",
       "      <th></th>\n",
       "      <th></th>\n",
       "      <th></th>\n",
       "    </tr>\n",
       "  </thead>\n",
       "  <tbody>\n",
       "    <tr>\n",
       "      <th>589</th>\n",
       "      <td>Grow Pittsburgh</td>\n",
       "      <td>grow-pittsburgh-site</td>\n",
       "      <td>6587 Hamilton Avenue #2W</td>\n",
       "      <td>Pittsburgh</td>\n",
       "      <td>15206</td>\n",
       "      <td>1</td>\n",
       "    </tr>\n",
       "    <tr>\n",
       "      <th>591</th>\n",
       "      <td>Masjid al Mu'min Madinah Garden</td>\n",
       "      <td>sustainability-fund-site|other</td>\n",
       "      <td>159 Winslow Street</td>\n",
       "      <td>Pittsburgh</td>\n",
       "      <td>15206</td>\n",
       "      <td>2</td>\n",
       "    </tr>\n",
       "    <tr>\n",
       "      <th>676</th>\n",
       "      <td>Sheridan Avenue Orchard</td>\n",
       "      <td>community-farm</td>\n",
       "      <td>310 Sheridan Avenue</td>\n",
       "      <td>Pittsburgh</td>\n",
       "      <td>15206</td>\n",
       "      <td>2</td>\n",
       "    </tr>\n",
       "    <tr>\n",
       "      <th>680</th>\n",
       "      <td>Borland Green Cooperative</td>\n",
       "      <td>school-garden</td>\n",
       "      <td>5806 Black Street</td>\n",
       "      <td>Pittsburgh</td>\n",
       "      <td>15206</td>\n",
       "      <td>1</td>\n",
       "    </tr>\n",
       "    <tr>\n",
       "      <th>686</th>\n",
       "      <td>Dilworth Traditional Academy</td>\n",
       "      <td>school-garden</td>\n",
       "      <td>6200 Stanton Avenue</td>\n",
       "      <td>Pittsburgh</td>\n",
       "      <td>15206</td>\n",
       "      <td>1</td>\n",
       "    </tr>\n",
       "    <tr>\n",
       "      <th>695</th>\n",
       "      <td>Pittsburgh Montessori PreK 5</td>\n",
       "      <td>school-garden</td>\n",
       "      <td>201 S Graham Street</td>\n",
       "      <td>Pittsburgh</td>\n",
       "      <td>15206</td>\n",
       "      <td>1</td>\n",
       "    </tr>\n",
       "    <tr>\n",
       "      <th>705</th>\n",
       "      <td>The Neighborhood Academy</td>\n",
       "      <td>school-garden</td>\n",
       "      <td>709 N Aiken Avenue</td>\n",
       "      <td>Pittsburgh</td>\n",
       "      <td>15206</td>\n",
       "      <td>1</td>\n",
       "    </tr>\n",
       "    <tr>\n",
       "      <th>706</th>\n",
       "      <td>Urban League Charter School</td>\n",
       "      <td>school-garden</td>\n",
       "      <td>327 N Negley Avenue</td>\n",
       "      <td>Pittsburgh</td>\n",
       "      <td>15206</td>\n",
       "      <td>1</td>\n",
       "    </tr>\n",
       "    <tr>\n",
       "      <th>713</th>\n",
       "      <td>East Field Cooperative Garden</td>\n",
       "      <td>sustainability-fund-site</td>\n",
       "      <td>5543 Black Street</td>\n",
       "      <td>Pittsburgh</td>\n",
       "      <td>15206</td>\n",
       "      <td>2</td>\n",
       "    </tr>\n",
       "    <tr>\n",
       "      <th>722</th>\n",
       "      <td>Highland Park Community Gardens</td>\n",
       "      <td>community-garden</td>\n",
       "      <td>Stanton Avenue</td>\n",
       "      <td>Pittsburgh</td>\n",
       "      <td>15206</td>\n",
       "      <td>1</td>\n",
       "    </tr>\n",
       "    <tr>\n",
       "      <th>723</th>\n",
       "      <td>Kincaid Street Community Garden</td>\n",
       "      <td>sustainability-fund-site</td>\n",
       "      <td>5409 Kincaid Street</td>\n",
       "      <td>Pittsburgh</td>\n",
       "      <td>15206</td>\n",
       "      <td>2</td>\n",
       "    </tr>\n",
       "    <tr>\n",
       "      <th>729</th>\n",
       "      <td>Larimer Community Garden</td>\n",
       "      <td>sustainability-fund-site</td>\n",
       "      <td>300 Larimer Avenue</td>\n",
       "      <td>Pittsburgh</td>\n",
       "      <td>15206</td>\n",
       "      <td>2</td>\n",
       "    </tr>\n",
       "    <tr>\n",
       "      <th>738</th>\n",
       "      <td>The Octopus Garden</td>\n",
       "      <td>community-garden</td>\n",
       "      <td>133 S. Aiken Avenue</td>\n",
       "      <td>Pittsburgh</td>\n",
       "      <td>15206</td>\n",
       "      <td>1</td>\n",
       "    </tr>\n",
       "  </tbody>\n",
       "</table>\n",
       "</div>"
      ],
      "text/plain": [
       "                              urban_grower                        category  \\\n",
       "grower_id                                                                    \n",
       "589                        Grow Pittsburgh            grow-pittsburgh-site   \n",
       "591        Masjid al Mu'min Madinah Garden  sustainability-fund-site|other   \n",
       "676                Sheridan Avenue Orchard                  community-farm   \n",
       "680              Borland Green Cooperative                   school-garden   \n",
       "686           Dilworth Traditional Academy                   school-garden   \n",
       "695           Pittsburgh Montessori PreK 5                   school-garden   \n",
       "705               The Neighborhood Academy                   school-garden   \n",
       "706            Urban League Charter School                   school-garden   \n",
       "713          East Field Cooperative Garden        sustainability-fund-site   \n",
       "722        Highland Park Community Gardens                community-garden   \n",
       "723        Kincaid Street Community Garden        sustainability-fund-site   \n",
       "729               Larimer Community Garden        sustainability-fund-site   \n",
       "738                     The Octopus Garden                community-garden   \n",
       "\n",
       "                     street_address        city  zip_code  scores  \n",
       "grower_id                                                          \n",
       "589        6587 Hamilton Avenue #2W  Pittsburgh     15206       1  \n",
       "591              159 Winslow Street  Pittsburgh     15206       2  \n",
       "676             310 Sheridan Avenue  Pittsburgh     15206       2  \n",
       "680               5806 Black Street  Pittsburgh     15206       1  \n",
       "686             6200 Stanton Avenue  Pittsburgh     15206       1  \n",
       "695             201 S Graham Street  Pittsburgh     15206       1  \n",
       "705              709 N Aiken Avenue  Pittsburgh     15206       1  \n",
       "706             327 N Negley Avenue  Pittsburgh     15206       1  \n",
       "713               5543 Black Street  Pittsburgh     15206       2  \n",
       "722                  Stanton Avenue  Pittsburgh     15206       1  \n",
       "723             5409 Kincaid Street  Pittsburgh     15206       2  \n",
       "729              300 Larimer Avenue  Pittsburgh     15206       2  \n",
       "738             133 S. Aiken Avenue  Pittsburgh     15206       1  "
      ]
     },
     "execution_count": 6,
     "metadata": {},
     "output_type": "execute_result"
    }
   ],
   "source": [
    "##Checking to see why 15206 in the East Libery area has so many\n",
    "bestzip=foodGardens[foodGardens[\"zip_code\"]==15206]\n",
    "bestzip.head(18)"
   ]
  },
  {
   "cell_type": "markdown",
   "metadata": {},
   "source": [
    "Seeing how data would is distbuted in a bar graph"
   ]
  },
  {
   "cell_type": "code",
   "execution_count": 14,
   "metadata": {},
   "outputs": [
    {
     "data": {
      "image/png": "[encoded data removed]",
      "text/plain": [
       "<Figure size 2160x720 with 1 Axes>"
      ]
     },
     "metadata": {
      "needs_background": "light"
     },
     "output_type": "display_data"
    }
   ],
   "source": [
    "df=pd.DataFrame.from_dict(center_counter, orient='index',columns=([\"Score\"]))\n",
    "df=df.sort_values(by=[\"Score\"])\n",
    "ax=df.plot.bar(y=\"Score\",rot=0, figsize=(30,10))"
   ]
  },
  {
   "cell_type": "markdown",
   "metadata": {},
   "source": [
    "Let's add in the population dataset from https://www.city-data.com/zipmaps/Pittsburgh-Pennsylvania.html, for the population by zipcode"
   ]
  },
  {
   "cell_type": "code",
   "execution_count": 17,
   "metadata": {},
   "outputs": [
    {
     "name": "stdout",
     "output_type": "stream",
     "text": [
      "       Score  Garden Score  Garden Score 10000\n",
      "15204      1             1            1.152605\n",
      "15218      1             1            0.716640\n",
      "15214      2             2            1.378645\n",
      "15217      2             2            0.701557\n",
      "15238      2             2            1.479290\n",
      "15212      3             3            1.123259\n",
      "15210      3             3            1.107052\n",
      "15220      3             3            1.661130\n",
      "15207      5             5            3.917574\n",
      "15201      6             6            4.619649\n",
      "15221      6             6            1.907123\n",
      "15224      7             7            6.395614\n",
      "15219      8             8            4.926412\n",
      "15213      9             9            3.202277\n",
      "15208     11            11           10.525309\n",
      "15206     18            18            6.128911\n"
     ]
    },
    {
     "data": {
      "text/plain": [
       "<matplotlib.axes._subplots.AxesSubplot at 0x7f752efa7160>"
      ]
     },
     "execution_count": 17,
     "metadata": {},
     "output_type": "execute_result"
    },
    {
     "data": {
      "image/png": "[encoded data removed]",
      "text/plain": [
       "<Figure size 3600x1080 with 1 Axes>"
      ]
     },
     "metadata": {
      "needs_background": "light"
     },
     "output_type": "display_data"
    }
   ],
   "source": [
    "pop={\n",
    "15106:19575,\n",
    "15120:18757,\n",
    "15201:12988,\n",
    "15204:8676,\n",
    "15205:22736,\n",
    "15206:29369,\n",
    "15207:12763,\n",
    "15208:10451,\n",
    "15210:27099,\n",
    "15211:11141,\n",
    "15212:26708,\n",
    "15213:28105,\n",
    "15214:14507,\n",
    "15215:12566,\n",
    "15216:23217,\n",
    "15217:28508,\n",
    "15218:13954,\n",
    "15219:16239,\n",
    "15220:18060,\n",
    "15221:31461,\n",
    "15222:4256,\n",
    "15224:10945,\n",
    "15226:13813,\n",
    "15227:29198,\n",
    "15232:11858,\n",
    "15233:4469,\n",
    "15234:13676,\n",
    "15235:34625,\n",
    "15236:29916,\n",
    "15238:13520,\n",
    "}\n",
    "df[\"Garden Score\"]=pd.DataFrame.from_dict(center_counter,orient='index',columns=[\"Garden score\"])\n",
    "df=df.sort_values(by='Garden Score')\n",
    "\n",
    "##dfTH.plot.bar(x='Garden Score',figsize=(50,15),rot=0, title='Garden Score by Pittsburgh Zip Codes')\n",
    "popS=[]\n",
    "for ind in df.index:\n",
    "    storeT=df['Garden Score'][ind]\n",
    "    popT=pop[ind]\n",
    "    popS.append(storeT/popT*10000)\n",
    "df[\"Garden Score 10000\"]=popS\n",
    "print(df)\n",
    "df.plot.bar(figsize=(50,15),rot=0,y=\"Garden Score 10000\", title='Number of food gardens per 10000')"
   ]
  },
  {
   "cell_type": "markdown",
   "metadata": {},
   "source": [
    "<h5>Answer<h5>\n",
    "While 15206 has the best score it is clearly a result of population, more than density. This would explain why it had so many school gardens which are only worth one. 15206 best corresponds to the east liberty neighborhood. The best per capitia is by a long shot is 15208 which best corresponds to the homewood and point breeze."
   ]
  }
 ],
 "metadata": {
  "kernelspec": {
   "display_name": "Python 3",
   "language": "python",
   "name": "python3"
  },
  "language_info": {
   "codemirror_mode": {
    "name": "ipython",
    "version": 3
   },
   "file_extension": ".py",
   "mimetype": "text/x-python",
   "name": "python",
   "nbconvert_exporter": "python",
   "pygments_lexer": "ipython3",
   "version": "3.8.3"
  }
 },
 "nbformat": 4,
 "nbformat_minor": 4
}
